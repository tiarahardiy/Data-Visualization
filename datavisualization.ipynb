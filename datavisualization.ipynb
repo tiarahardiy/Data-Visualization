# -*- coding: utf-8 -*

import pandas as pd
from matplotlib import pyplot as plt
x=[1,2,3]
y=[1,4,9]
z=[10,5,0]
plt.plot(x,y)
plt.plot(x,z)
plt.title("test plot")
plt.xlabel("x label")
plt.ylabel("y label")
plt.show()


data = pd.read_csv('countries.csv')
data
data.country == 'United State'
us = data[data.country == 'United State']
plt.plot(us.year, us.population)
plt.show()
